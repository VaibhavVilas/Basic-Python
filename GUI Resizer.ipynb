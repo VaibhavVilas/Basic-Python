{
 "cells": [
  {
   "cell_type": "code",
   "execution_count": 1,
   "metadata": {},
   "outputs": [],
   "source": [
    "from tkinter import *"
   ]
  },
  {
   "cell_type": "code",
   "execution_count": 2,
   "metadata": {},
   "outputs": [],
   "source": [
    "root = Tk()\n",
    "\n",
    "root.geometry('800x600')\n",
    "root.title('WINDOW RESIZER')\n",
    "\n",
    "Label(root,text = 'WINDOW RESIZER').grid(row = 1,column = 8)\n",
    "\n",
    "def resize():\n",
    "    root.geometry(f'{h_value.get()}x{w_value.get()}')\n",
    "    \n",
    "    \n",
    "h = Label(root,text = 'Height : ')\n",
    "w = Label(root,text = 'Width : ')\n",
    "\n",
    "h.grid(row = 9)\n",
    "w.grid(row = 10)\n",
    "\n",
    "h_value = StringVar()\n",
    "w_value = StringVar()\n",
    "\n",
    "h_entry  = Entry(root,textvariable = h_value).grid(row= 9, column =1)\n",
    "w_entry = Entry(root,textvariable = w_value).grid(row = 10,column = 1)\n",
    "\n",
    "Button(root,text = 'RESIZE',command = resize).grid()\n",
    "root.mainloop()"
   ]
  },
  {
   "cell_type": "code",
   "execution_count": null,
   "metadata": {},
   "outputs": [],
   "source": []
  },
  {
   "cell_type": "code",
   "execution_count": null,
   "metadata": {},
   "outputs": [],
   "source": []
  }
 ],
 "metadata": {
  "kernelspec": {
   "display_name": "Python 3",
   "language": "python",
   "name": "python3"
  },
  "language_info": {
   "codemirror_mode": {
    "name": "ipython",
    "version": 3
   },
   "file_extension": ".py",
   "mimetype": "text/x-python",
   "name": "python",
   "nbconvert_exporter": "python",
   "pygments_lexer": "ipython3",
   "version": "3.8.5"
  }
 },
 "nbformat": 4,
 "nbformat_minor": 4
}
