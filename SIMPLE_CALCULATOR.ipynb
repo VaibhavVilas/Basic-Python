{
 "cells": [
  {
   "cell_type": "code",
   "execution_count": 1,
   "metadata": {},
   "outputs": [],
   "source": [
    "def add(a,b):\n",
    "    print('The addition is',a+b)"
   ]
  },
  {
   "cell_type": "code",
   "execution_count": 2,
   "metadata": {},
   "outputs": [
    {
     "name": "stdout",
     "output_type": "stream",
     "text": [
      "The addition is -44\n"
     ]
    }
   ],
   "source": [
    "add(-99,55)"
   ]
  },
  {
   "cell_type": "code",
   "execution_count": 3,
   "metadata": {},
   "outputs": [],
   "source": [
    "def sub(a,b):\n",
    "    print('The subtraction is',a-b)"
   ]
  },
  {
   "cell_type": "code",
   "execution_count": 4,
   "metadata": {},
   "outputs": [
    {
     "name": "stdout",
     "output_type": "stream",
     "text": [
      "The subtraction is 3\n"
     ]
    }
   ],
   "source": [
    "sub(1,-2)"
   ]
  },
  {
   "cell_type": "code",
   "execution_count": 5,
   "metadata": {},
   "outputs": [],
   "source": [
    "def mul(a,b):\n",
    "    print('The multiplication is',a*b)"
   ]
  },
  {
   "cell_type": "code",
   "execution_count": 6,
   "metadata": {},
   "outputs": [
    {
     "name": "stdout",
     "output_type": "stream",
     "text": [
      "The multiplication is 48\n"
     ]
    }
   ],
   "source": [
    "mul(24,2)"
   ]
  },
  {
   "cell_type": "code",
   "execution_count": 7,
   "metadata": {},
   "outputs": [],
   "source": [
    "def div(a,b):\n",
    "    print('The division is',a/b)"
   ]
  },
  {
   "cell_type": "code",
   "execution_count": 8,
   "metadata": {},
   "outputs": [
    {
     "name": "stdout",
     "output_type": "stream",
     "text": [
      "The division is 0.5348837209302325\n"
     ]
    }
   ],
   "source": [
    "div(23,43)"
   ]
  },
  {
   "cell_type": "code",
   "execution_count": 9,
   "metadata": {},
   "outputs": [],
   "source": [
    "def squrt(a):\n",
    "    print('The Square Root is',a**0.5)"
   ]
  },
  {
   "cell_type": "code",
   "execution_count": 10,
   "metadata": {},
   "outputs": [
    {
     "name": "stdout",
     "output_type": "stream",
     "text": [
      "The Square Root is 3.0\n"
     ]
    }
   ],
   "source": [
    "squrt(9)"
   ]
  },
  {
   "cell_type": "code",
   "execution_count": 11,
   "metadata": {},
   "outputs": [],
   "source": [
    "def CALCULATOR():\n",
    "    print('                                                        CALCULATOR                                                                 ')\n",
    "    print('                                                                                                                                    ')\n",
    "    print('                                                                                                                                    ')\n",
    "    print('                                                                                                                                    ')\n",
    "    print('1. ADD\\n2.SUBTRACT\\n3.MULTIPLY\\n4.DIVISION\\n5.SQUARE ROOT')\n",
    "    choice = 'rr'\n",
    "    while choice not in ['1','2','3','4','5']:\n",
    "        print('                                                                                                                                   ')\n",
    "        print('                                                                                                                                    ')\n",
    "        choice = input('Select Operation:  ')\n",
    "        if choice == '1':\n",
    "            print('                                                                                                                                    ')\n",
    "            a = float(input('Enter nunber1: '))\n",
    "            b = float(input('Enter number2: '))\n",
    "            print('                                                                                                                                    ')\n",
    "            return(add(a,b))\n",
    "        elif choice == '2':\n",
    "            print('                                                                                                                                    ')\n",
    "            a = float(input('Enter nunber1: '))\n",
    "            b = float(input('Enter number2: '))\n",
    "            print('                                                                                                                                    ')\n",
    "            return(sub(a,b))\n",
    "        elif choice == '3':\n",
    "            print('                                                                                                                                    ')\n",
    "            a = float(input('Enter nunber1: '))\n",
    "            b = float(input('Enter number2: '))\n",
    "            print('                                                                                                                                    ')\n",
    "            return(mul(a,b))\n",
    "        elif choice == '4':\n",
    "            print('                                                                                                                                    ')\n",
    "            a = float(input('Enter nunber1: '))\n",
    "            b = float(input('Enter number2: '))\n",
    "            print('                                                                                                                                    ')\n",
    "            return(div(a,b))\n",
    "        elif choice == '5':\n",
    "            print('                                                                                                                                      ')\n",
    "            a = float(input('Enter number: '))\n",
    "            print('                                                                                                                                      ')\n",
    "            return(squrt(a))\n",
    "        else:\n",
    "            print('                                                                                                                                      ')\n",
    "            print('Invalid Input!!\\nPlease Try Again')"
   ]
  },
  {
   "cell_type": "code",
   "execution_count": 17,
   "metadata": {},
   "outputs": [
    {
     "name": "stdout",
     "output_type": "stream",
     "text": [
      "                                                        CALCULATOR                                                                 \n",
      "                                                                                                                                    \n",
      "                                                                                                                                    \n",
      "                                                                                                                                    \n",
      "1. ADD\n",
      "2.SUBTRACT\n",
      "3.MULTIPLY\n",
      "4.DIVISION\n",
      "5.SQUARE ROOT\n",
      "                                                                                                                                   \n",
      "                                                                                                                                    \n"
     ]
    },
    {
     "name": "stdin",
     "output_type": "stream",
     "text": [
      "Select Operation:   5\n"
     ]
    },
    {
     "name": "stdout",
     "output_type": "stream",
     "text": [
      "                                                                                                                                      \n"
     ]
    },
    {
     "name": "stdin",
     "output_type": "stream",
     "text": [
      "Enter number:  529\n"
     ]
    },
    {
     "name": "stdout",
     "output_type": "stream",
     "text": [
      "                                                                                                                                      \n",
      "The Square Root is 23.0\n"
     ]
    }
   ],
   "source": [
    "CALCULATOR()"
   ]
  },
  {
   "cell_type": "code",
   "execution_count": null,
   "metadata": {},
   "outputs": [],
   "source": []
  },
  {
   "cell_type": "code",
   "execution_count": null,
   "metadata": {},
   "outputs": [],
   "source": []
  },
  {
   "cell_type": "code",
   "execution_count": null,
   "metadata": {},
   "outputs": [],
   "source": []
  },
  {
   "cell_type": "code",
   "execution_count": null,
   "metadata": {},
   "outputs": [],
   "source": []
  },
  {
   "cell_type": "code",
   "execution_count": null,
   "metadata": {},
   "outputs": [],
   "source": []
  }
 ],
 "metadata": {
  "kernelspec": {
   "display_name": "Python 3",
   "language": "python",
   "name": "python3"
  },
  "language_info": {
   "codemirror_mode": {
    "name": "ipython",
    "version": 3
   },
   "file_extension": ".py",
   "mimetype": "text/x-python",
   "name": "python",
   "nbconvert_exporter": "python",
   "pygments_lexer": "ipython3",
   "version": "3.8.5"
  }
 },
 "nbformat": 4,
 "nbformat_minor": 4
}
