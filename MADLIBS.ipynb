{
 "cells": [
  {
   "cell_type": "code",
   "execution_count": 1,
   "metadata": {},
   "outputs": [],
   "source": [
    "def Madlibs():\n",
    "    adj1 = input('Adjective: ')\n",
    "    print('                                                                             ')\n",
    "    noun1 = input('Noun: ')\n",
    "    print('                                                                             ')\n",
    "    verb_past = input('Verb Past tense: ')\n",
    "    print('                                                                             ')\n",
    "    adb = input('Adverb: ')\n",
    "    print('                                                                             ')\n",
    "    adj2 = input('Adjective: ')\n",
    "    print('                                                                             ')\n",
    "    noun2 = input('Noun: ')\n",
    "    print('                                                                             ')\n",
    "    noun3 = input('Noun: ')\n",
    "    print('                                                                             ')\n",
    "    adj3 = input('Adjective: ')\n",
    "    print('                                                                             ')\n",
    "    verb1 = input('Verb: ')\n",
    "    print('                                                                             ')\n",
    "    adb2 = input('Adverb: ')\n",
    "    print('                                                                             ')\n",
    "    verb2_past = input('Verb Past tense: ')\n",
    "    print('                                                                             ')\n",
    "    adj4 = input('Adjective: ')\n",
    "    \n",
    "    madlibs = f'Today I went to the zoo. I saw a/an {adj1} {noun1} jumping up and down in its tree.\\nHe {verb_past} {adb} through the large tunnel that led to its {adj2} {noun2}.\\nI got some peanuts and passed them through the cage to a gigantic gray {noun3} towering above my head.\\nFeeding that animal made me hungry.I went to get a {adj3}scoop of ice cream. \\nIt filled my stomach. Afterwards I had to {verb1} {adb2}to catch our bus.\\nWhen I got home I {verb2_past}  my mom for a {adj4} day at the zoo.'\n",
    "    print('                                                                             ')\n",
    "    print('                                                                             ')\n",
    "    print('Enjoy Reading Your Story and Find what type of author can you Become')\n",
    "    print('                                                                             ')\n",
    "    print(madlibs)    "
   ]
  },
  {
   "cell_type": "code",
   "execution_count": 2,
   "metadata": {},
   "outputs": [
    {
     "name": "stdin",
     "output_type": "stream",
     "text": [
      "Adjective:  silver\n"
     ]
    },
    {
     "name": "stdout",
     "output_type": "stream",
     "text": [
      "                                                                             \n"
     ]
    },
    {
     "name": "stdin",
     "output_type": "stream",
     "text": [
      "Noun:  car\n"
     ]
    },
    {
     "name": "stdout",
     "output_type": "stream",
     "text": [
      "                                                                             \n"
     ]
    },
    {
     "name": "stdin",
     "output_type": "stream",
     "text": [
      "Verb Past tense:  sat\n"
     ]
    },
    {
     "name": "stdout",
     "output_type": "stream",
     "text": [
      "                                                                             \n"
     ]
    },
    {
     "name": "stdin",
     "output_type": "stream",
     "text": [
      "Adverb:  cleverly\n"
     ]
    },
    {
     "name": "stdout",
     "output_type": "stream",
     "text": [
      "                                                                             \n"
     ]
    },
    {
     "name": "stdin",
     "output_type": "stream",
     "text": [
      "Adjective:  long\n"
     ]
    },
    {
     "name": "stdout",
     "output_type": "stream",
     "text": [
      "                                                                             \n"
     ]
    },
    {
     "name": "stdin",
     "output_type": "stream",
     "text": [
      "Noun:  office\n"
     ]
    },
    {
     "name": "stdout",
     "output_type": "stream",
     "text": [
      "                                                                             \n"
     ]
    },
    {
     "name": "stdin",
     "output_type": "stream",
     "text": [
      "Noun:  money\n"
     ]
    },
    {
     "name": "stdout",
     "output_type": "stream",
     "text": [
      "                                                                             \n"
     ]
    },
    {
     "name": "stdin",
     "output_type": "stream",
     "text": [
      "Adjective:  huge\n"
     ]
    },
    {
     "name": "stdout",
     "output_type": "stream",
     "text": [
      "                                                                             \n"
     ]
    },
    {
     "name": "stdin",
     "output_type": "stream",
     "text": [
      "Verb:  stand\n"
     ]
    },
    {
     "name": "stdout",
     "output_type": "stream",
     "text": [
      "                                                                             \n"
     ]
    },
    {
     "name": "stdin",
     "output_type": "stream",
     "text": [
      "Adverb:  daily\n"
     ]
    },
    {
     "name": "stdout",
     "output_type": "stream",
     "text": [
      "                                                                             \n"
     ]
    },
    {
     "name": "stdin",
     "output_type": "stream",
     "text": [
      "Verb Past tense:  won\n"
     ]
    },
    {
     "name": "stdout",
     "output_type": "stream",
     "text": [
      "                                                                             \n"
     ]
    },
    {
     "name": "stdin",
     "output_type": "stream",
     "text": [
      "Adjective:  tasty\n"
     ]
    },
    {
     "name": "stdout",
     "output_type": "stream",
     "text": [
      "                                                                             \n",
      "                                                                             \n",
      "Enjoy Reading Your Story and Find what type of author can you Become\n",
      "                                                                             \n",
      "Today I went to the zoo. I saw a/an silver car jumping up and down in its tree.\n",
      "He sat cleverly through the large tunnel that led to its long office.\n",
      "I got some peanuts and passed them through the cage to a gigantic gray money towering above my head.\n",
      "Feeding that animal made me hungry.I went to get a hugescoop of ice cream. \n",
      "It filled my stomach. Afterwards I had to stand dailyto catch our bus.\n",
      "When I got home I won  my mom for a tasty day at the zoo.\n"
     ]
    }
   ],
   "source": [
    "Madlibs()"
   ]
  },
  {
   "cell_type": "code",
   "execution_count": null,
   "metadata": {},
   "outputs": [],
   "source": []
  }
 ],
 "metadata": {
  "kernelspec": {
   "display_name": "Python 3",
   "language": "python",
   "name": "python3"
  },
  "language_info": {
   "codemirror_mode": {
    "name": "ipython",
    "version": 3
   },
   "file_extension": ".py",
   "mimetype": "text/x-python",
   "name": "python",
   "nbconvert_exporter": "python",
   "pygments_lexer": "ipython3",
   "version": "3.8.5"
  }
 },
 "nbformat": 4,
 "nbformat_minor": 4
}
