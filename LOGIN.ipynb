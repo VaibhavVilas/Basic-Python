{
 "cells": [
  {
   "cell_type": "code",
   "execution_count": 1,
   "metadata": {},
   "outputs": [],
   "source": [
    "Accounts = {'Gintoki':'gin'}"
   ]
  },
  {
   "cell_type": "code",
   "execution_count": 10,
   "metadata": {},
   "outputs": [],
   "source": [
    "def login():\n",
    "    print('                  WELCOME TO CRUNCHYROLL !!!                 ')\n",
    "    print('                                                                          ')\n",
    "    print('                                                                          ')\n",
    "    print('                                                                          ')\n",
    "    print('                                                                          ')\n",
    "    print('1.LOGIN')\n",
    "    print('2.SIGN UP')\n",
    "    c = ''\n",
    "    while c not in ['1','2']:\n",
    "        c = input('Enter Your Choice: ')\n",
    "        if  c == '1':\n",
    "            user = ''\n",
    "            while user not in Accounts.keys():\n",
    "                print('                                                                                                                                    ')\n",
    "                user = input('Enter Username: ')\n",
    "                if user in Accounts.keys():\n",
    "                    print('                                        ')\n",
    "                    password = ''\n",
    "                    while Accounts[user] != password:\n",
    "                        password = input('Enter your Password: ')\n",
    "                        if Accounts[user] != password:\n",
    "                            print('                                           ')\n",
    "                            print('Incorrect Password!!,Please try again')\n",
    "                        else:\n",
    "                            print('                                                     ')\n",
    "                            print('                                   Login Successful!!\\n                                   Welcome to the Anime Community!!')\n",
    "                else:\n",
    "                    print('                                                                                   ')\n",
    "                    print('Username Not Avaliable!!!')\n",
    "                \n",
    "                \n",
    "        else:\n",
    "            new = ''\n",
    "            while len(new) == 0:\n",
    "                print('                                             ')\n",
    "                new = input('Enter Your New Username: ')\n",
    "                if len(new) == 0:\n",
    "                    print('                                           ')\n",
    "                    print('Cannot Be  Empty')\n",
    "                else:\n",
    "                    passw = ''\n",
    "                    while len(passw) == 0:\n",
    "                        print('                                          ')\n",
    "                        passw = input('Enter  Your New Password: ')\n",
    "                        if len(passw) != 0:\n",
    "                            Accounts[new] = passw\n",
    "                            print('                                        ')\n",
    "                            print('Account Successfully Created!!')"
   ]
  },
  {
   "cell_type": "code",
   "execution_count": 11,
   "metadata": {},
   "outputs": [
    {
     "name": "stdout",
     "output_type": "stream",
     "text": [
      "                  WELCOME TO CRUNCHYROLL !!!                 \n",
      "                                                                          \n",
      "                                                                          \n",
      "                                                                          \n",
      "                                                                          \n",
      "1.LOGIN\n",
      "2.SIGN UP\n"
     ]
    },
    {
     "name": "stdin",
     "output_type": "stream",
     "text": [
      "Enter Your Choice:  1\n"
     ]
    },
    {
     "name": "stdout",
     "output_type": "stream",
     "text": [
      "                                                                                                                                    \n"
     ]
    },
    {
     "name": "stdin",
     "output_type": "stream",
     "text": [
      "Enter Username:  Kazuya\n"
     ]
    },
    {
     "name": "stdout",
     "output_type": "stream",
     "text": [
      "                                        \n"
     ]
    },
    {
     "name": "stdin",
     "output_type": "stream",
     "text": [
      "Enter your Password:  ODD JOBS\n"
     ]
    },
    {
     "name": "stdout",
     "output_type": "stream",
     "text": [
      "                                           \n",
      "Incorrect Password!!,Please try again\n"
     ]
    },
    {
     "name": "stdin",
     "output_type": "stream",
     "text": [
      "Enter your Password:  1234\n"
     ]
    },
    {
     "name": "stdout",
     "output_type": "stream",
     "text": [
      "                                           \n",
      "Incorrect Password!!,Please try again\n"
     ]
    },
    {
     "name": "stdin",
     "output_type": "stream",
     "text": [
      "Enter your Password:  SIMPGOD\n"
     ]
    },
    {
     "name": "stdout",
     "output_type": "stream",
     "text": [
      "                                                     \n",
      "                                   Login Successful!!\n",
      "                                   Welcome to the Anime Community!!\n"
     ]
    }
   ],
   "source": [
    "login()"
   ]
  },
  {
   "cell_type": "code",
   "execution_count": null,
   "metadata": {},
   "outputs": [],
   "source": []
  },
  {
   "cell_type": "code",
   "execution_count": null,
   "metadata": {},
   "outputs": [],
   "source": []
  },
  {
   "cell_type": "code",
   "execution_count": null,
   "metadata": {},
   "outputs": [],
   "source": []
  }
 ],
 "metadata": {
  "kernelspec": {
   "display_name": "Python 3",
   "language": "python",
   "name": "python3"
  },
  "language_info": {
   "codemirror_mode": {
    "name": "ipython",
    "version": 3
   },
   "file_extension": ".py",
   "mimetype": "text/x-python",
   "name": "python",
   "nbconvert_exporter": "python",
   "pygments_lexer": "ipython3",
   "version": "3.8.5"
  }
 },
 "nbformat": 4,
 "nbformat_minor": 4
}
