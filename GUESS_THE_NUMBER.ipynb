{
 "cells": [
  {
   "cell_type": "code",
   "execution_count": 1,
   "metadata": {},
   "outputs": [],
   "source": [
    "import random"
   ]
  },
  {
   "cell_type": "code",
   "execution_count": 2,
   "metadata": {},
   "outputs": [],
   "source": [
    "def guess():\n",
    "    print(\"                                     WELCOME TO GUESS THE NUMBER GAME!!!                                          \")\n",
    "    print('                                                                                                               ')\n",
    "    print('                                                                                                               ')\n",
    "    a = int(input('Enetr Starting Number: '))\n",
    "    b = int(input('Enter Last Number: '))\n",
    "    comp_choice = random.randint(a,b)\n",
    "    print('                                                                                                               ')\n",
    "    print('                                                                                                               ') \n",
    "    n = int(input('How Many Chances Do You Want?: '))\n",
    "    i=0\n",
    "    while i < n:\n",
    "        i=i+1\n",
    "        print('                                                                                                               ')\n",
    "        print('                                                                                                               ')\n",
    "        c= int(input(\"Enter Your Number: \"))\n",
    "        if c == comp_choice:\n",
    "            print('                                                                                                               ')\n",
    "            print('Your Guess is correct')\n",
    "            break\n",
    "        elif c > comp_choice:\n",
    "            print('                                                                                                               ') \n",
    "            print('Guessed Number is too High!!')\n",
    "        else:\n",
    "            print('                                                                                                               ') \n",
    "            print('Guessed Number is too Low!!')\n",
    "    if c == comp_choice:\n",
    "        print('                                                                                                               ') \n",
    "        print(f'You Guessed the Number in {i} tries')\n",
    "    else:\n",
    "        print('                                                                                                               ') \n",
    "        print(f'Sorry , You Lost!! , The Number was {comp_choice}')"
   ]
  },
  {
   "cell_type": "code",
   "execution_count": 3,
   "metadata": {},
   "outputs": [
    {
     "name": "stdout",
     "output_type": "stream",
     "text": [
      "                                     WELCOME TO GUESS THE NUMBER GAME!!!                                          \n",
      "                                                                                                               \n",
      "                                                                                                               \n"
     ]
    },
    {
     "name": "stdin",
     "output_type": "stream",
     "text": [
      "Enetr Starting Number:  1\n",
      "Enter Last Number:  13\n"
     ]
    },
    {
     "name": "stdout",
     "output_type": "stream",
     "text": [
      "                                                                                                               \n",
      "                                                                                                               \n"
     ]
    },
    {
     "name": "stdin",
     "output_type": "stream",
     "text": [
      "How Many Chances Do You Want?:  3\n"
     ]
    },
    {
     "name": "stdout",
     "output_type": "stream",
     "text": [
      "                                                                                                               \n",
      "                                                                                                               \n"
     ]
    },
    {
     "name": "stdin",
     "output_type": "stream",
     "text": [
      "Enter Your Number:  9\n"
     ]
    },
    {
     "name": "stdout",
     "output_type": "stream",
     "text": [
      "                                                                                                               \n",
      "Guessed Number is too Low!!\n",
      "                                                                                                               \n",
      "                                                                                                               \n"
     ]
    },
    {
     "name": "stdin",
     "output_type": "stream",
     "text": [
      "Enter Your Number:  12\n"
     ]
    },
    {
     "name": "stdout",
     "output_type": "stream",
     "text": [
      "                                                                                                               \n",
      "Guessed Number is too Low!!\n",
      "                                                                                                               \n",
      "                                                                                                               \n"
     ]
    },
    {
     "name": "stdin",
     "output_type": "stream",
     "text": [
      "Enter Your Number:  13\n"
     ]
    },
    {
     "name": "stdout",
     "output_type": "stream",
     "text": [
      "                                                                                                               \n",
      "Your Guess is correct\n",
      "                                                                                                               \n",
      "You Guessed the Number in 3 tries\n"
     ]
    }
   ],
   "source": [
    "guess()"
   ]
  },
  {
   "cell_type": "code",
   "execution_count": null,
   "metadata": {},
   "outputs": [],
   "source": []
  }
 ],
 "metadata": {
  "kernelspec": {
   "display_name": "Python 3",
   "language": "python",
   "name": "python3"
  },
  "language_info": {
   "codemirror_mode": {
    "name": "ipython",
    "version": 3
   },
   "file_extension": ".py",
   "mimetype": "text/x-python",
   "name": "python",
   "nbconvert_exporter": "python",
   "pygments_lexer": "ipython3",
   "version": "3.8.5"
  }
 },
 "nbformat": 4,
 "nbformat_minor": 4
}
