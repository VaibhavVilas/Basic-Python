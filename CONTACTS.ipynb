{
 "cells": [
  {
   "cell_type": "code",
   "execution_count": 1,
   "metadata": {},
   "outputs": [],
   "source": [
    "phone = {'Vaibhav':9637783391}\n",
    "address = {'Vaibhav':'Dighi,Pune'}\n",
    "email = {'Vaibhav':'vaibhavvkarale2000@gmail.com'}"
   ]
  },
  {
   "cell_type": "code",
   "execution_count": 2,
   "metadata": {},
   "outputs": [],
   "source": [
    "def Contact():\n",
    "    print('                                                    WELCOME TO CONTACTS                                                        ')\n",
    "    print('                                                                                                                               ')\n",
    "    print('                                                                                                                               ')\n",
    "    print('1.GO TO CONTACTS')\n",
    "    print('2.UPDATE CONTACTS')\n",
    "    ch = ''\n",
    "    while ch not in ['1','2']:\n",
    "        print('                                                                                                                               ')\n",
    "        ch = input('Enter Your Choice: ')\n",
    "        if ch == '1':\n",
    "            n = ''\n",
    "            while n not in phone.keys() and address.keys() and email.keys():\n",
    "                print('                                                                                                                               ')\n",
    "                n = input('Enter The Name: ')\n",
    "                if n in phone.keys() and address.keys() and email.keys():\n",
    "                    print('                                                                                                                               ')\n",
    "                    print(f'Phone Number: {phone[n]}')\n",
    "                    print('                                                                                                                               ')\n",
    "                    print(f'Email ID: {email[n]}')\n",
    "                    print('                                                                                                                               ')\n",
    "                    print(f'Address: {address[n]}')\n",
    "                else:\n",
    "                    print('                                                                                                                             ')\n",
    "                    print('No Entry Of Such Name')\n",
    "                    break\n",
    "        else:\n",
    "            print('                                                                                                                               ')\n",
    "            print('1.ADD YOUR CONTACT')\n",
    "            print('2.CHANGE YOUR DETALS')\n",
    "            print('3.DELETE YOUR CONTACT')\n",
    "            print('                                                                                                                               ')\n",
    "            choice = ''\n",
    "            while choice not in ['1','2','3']:\n",
    "                choice = input('Enter Your Choice: ')\n",
    "                if choice == '1':\n",
    "                    new = ''\n",
    "                    while len(new) == 0:\n",
    "                        print('                                                                                                                               ')\n",
    "                        new = input('Name: ')\n",
    "                        if len(new) == 0:\n",
    "                            print('Cannot Be Empty')\n",
    "                        else:\n",
    "                            ph = ''\n",
    "                            while len(ph) == 0:\n",
    "                                print('                                                                                                                               ')\n",
    "                                ph = input('Phone Number: ')\n",
    "                                if len(ph) != 0:\n",
    "                                    phone[new] = int(ph)\n",
    "                                    print('                                                                                                                               ')\n",
    "                                    print('Phone Number Successfully Added!!')\n",
    "                                    e = ''\n",
    "                                    while len(e) == 0:\n",
    "                                        print('                                                                                                                               ')\n",
    "                                        e = input('Email ID: ')\n",
    "                                        if len(e) != 0:\n",
    "                                            email[new] = e\n",
    "                                            print('                                                                                                                               ')\n",
    "                                            print('Email ID Successfully Added!!')\n",
    "                                            a = ''\n",
    "                                            while len(a) == 0:\n",
    "                                                print('                                                                                                                               ')\n",
    "                                                a = input('Address: ')\n",
    "                                                if len(a) != 0:\n",
    "                                                    address[new] = a\n",
    "                                                    print('                                                                                                                               ')\n",
    "                                                    print('Address Successfully Added!!!')\n",
    "                                                    print('                                                                                                                               ')\n",
    "                                                    print('Contact Added Successfully')\n",
    "                                                else:\n",
    "                                                    print('                                                                                                                             ')\n",
    "                                                    print('Cannot Be Empty\\nTry Again!!!')\n",
    "                                        else:\n",
    "                                            print('                                                                                                                             ')\n",
    "                                            print('Cannot Be Empty\\nTry Again!!!')\n",
    "                                else:\n",
    "                                    print('                                                                                                                             ')\n",
    "                                    print('Cannot Be Empty\\nTry Again!!!')\n",
    "                \n",
    "                elif choice == '2':\n",
    "                    print('                                                                                                                             ')\n",
    "                    print('1.TO CHANGE PHONE NUMBER')\n",
    "                    print('2.TO CHANGE EMAIL ID')\n",
    "                    print('3.TO CHANGE ADDRESS')\n",
    "                    print('                                                                                                                             ')\n",
    "                    p = ''\n",
    "                    while p not in ['1','2','3']:\n",
    "                        print('                                                                                                                             ')\n",
    "                        p = input('Enter Your Choice: ')\n",
    "                        if p == '1':\n",
    "                            u = ''\n",
    "                            while u not in phone.keys() and address.keys() and email.keys():\n",
    "                                print('                                                                                                                             ')\n",
    "                                u = input('Name: ')\n",
    "                                if u in phone.keys() and address.keys() and email.keys():\n",
    "                                    h = ''\n",
    "                                    while len(h) == 0:\n",
    "                                        print('                                                                                                                             ')\n",
    "                                        h = input('New Number: ')\n",
    "                                        if len(h) != 0:\n",
    "                                            phone[u] = int(h)\n",
    "                                            print('                                                                                                                             ')\n",
    "                                            print('Phone Number Successfuly Updated!!')\n",
    "                                        else:\n",
    "                                            print('                                                                                                                             ')\n",
    "                                            print('Invalid Input\\nTry Again!!!')\n",
    "                                else:\n",
    "                                    print('                                                                                                                             ')\n",
    "                                    print('No Entry Of Such Name')\n",
    "                                    break\n",
    "                        elif p == '2':\n",
    "                            w = ''\n",
    "                            while w not in phone.keys() and address.keys() and email.keys():\n",
    "                                print('                                                                                                                             ')\n",
    "                                w = input('Name: ')\n",
    "                                if w in phone.keys() and address.keys() and email.keys():\n",
    "                                    i = ''\n",
    "                                    while len(i) == 0:\n",
    "                                        print('                                                                                                                             ')\n",
    "                                        i = input('New Email ID: ')\n",
    "                                        if len(i) != 0:\n",
    "                                            email[w] = i\n",
    "                                            print('                                                                                                                             ')\n",
    "                                            print('Email ID Successfully Updated!!')\n",
    "                                        else:\n",
    "                                            print('                                                                                                                             ')\n",
    "                                            print('Invalid Input\\nTry Again!!')\n",
    "                                else:\n",
    "                                    print('                                                                                                                             ')\n",
    "                                    print('No Entry Of Such Name')\n",
    "                                    break\n",
    "                        else:\n",
    "                            v = ''\n",
    "                            while v not in phone.keys() and address.keys() and email.keys():\n",
    "                                print('                                                                                                                             ')\n",
    "                                v = input('Name: ')\n",
    "                                if v in phone.keys() and address.keys() and email.keys():\n",
    "                                    d = ''\n",
    "                                    while len(d) == 0:\n",
    "                                        print('                                                                                                                             ')\n",
    "                                        d = input('New Address: ')\n",
    "                                        if len(d) != 0:\n",
    "                                            address[v] = d\n",
    "                                            print('                                                                                                                             ')\n",
    "                                            print('Address Successfully Updated!!')\n",
    "                                        else:\n",
    "                                            print('                                                                                                                             ')\n",
    "                                            print('Invalid Input\\nTry Again!!')\n",
    "                                else:\n",
    "                                    print('                                                                                                                             ')\n",
    "                                    print('No Entry Of Such Name')\n",
    "                                    break\n",
    "                else:\n",
    "                    t = ''\n",
    "                    while t not in phone.keys() and address.keys() and email.keys():\n",
    "                        print('                                                                                                                             ')\n",
    "                        t = input('Enter The Name You Want To Remove:  ')\n",
    "                        if t in phone.keys() and address.keys() and email.keys():\n",
    "                            del phone[t]\n",
    "                            del email[t]\n",
    "                            del address[t]\n",
    "                            print('                                                                                                                             ')\n",
    "                            print('Contact Successfully Deleted!!!')\n",
    "                            break\n",
    "                        else:\n",
    "                            print('                                                                                                                             ')\n",
    "                            print('No Entry Of Such Name')\n",
    "                            break"
   ]
  },
  {
   "cell_type": "code",
   "execution_count": 3,
   "metadata": {},
   "outputs": [
    {
     "name": "stdout",
     "output_type": "stream",
     "text": [
      "                                                    WELCOME TO CONTACTS                                                        \n",
      "                                                                                                                               \n",
      "                                                                                                                               \n",
      "1.GO TO CONTACTS\n",
      "2.UPDATE CONTACTS\n",
      "                                                                                                                               \n"
     ]
    },
    {
     "name": "stdin",
     "output_type": "stream",
     "text": [
      "Enter Your Choice:  2\n"
     ]
    },
    {
     "name": "stdout",
     "output_type": "stream",
     "text": [
      "                                                                                                                               \n",
      "1.ADD YOUR CONTACT\n",
      "2.CHANGE YOUR DETALS\n",
      "3.DELETE YOUR CONTACT\n",
      "                                                                                                                               \n"
     ]
    },
    {
     "name": "stdin",
     "output_type": "stream",
     "text": [
      "Enter Your Choice:  1\n"
     ]
    },
    {
     "name": "stdout",
     "output_type": "stream",
     "text": [
      "                                                                                                                               \n"
     ]
    },
    {
     "name": "stdin",
     "output_type": "stream",
     "text": [
      "Name:  Senku\n"
     ]
    },
    {
     "name": "stdout",
     "output_type": "stream",
     "text": [
      "                                                                                                                               \n"
     ]
    },
    {
     "name": "stdin",
     "output_type": "stream",
     "text": [
      "Phone Number:  1323123311\n"
     ]
    },
    {
     "name": "stdout",
     "output_type": "stream",
     "text": [
      "                                                                                                                               \n",
      "Phone Number Successfully Added!!\n",
      "                                                                                                                               \n"
     ]
    },
    {
     "name": "stdin",
     "output_type": "stream",
     "text": [
      "Email ID:  MechaSenku@jpy.com\n"
     ]
    },
    {
     "name": "stdout",
     "output_type": "stream",
     "text": [
      "                                                                                                                               \n",
      "Email ID Successfully Added!!\n",
      "                                                                                                                               \n"
     ]
    },
    {
     "name": "stdin",
     "output_type": "stream",
     "text": [
      "Address:  Ishigami Village\n"
     ]
    },
    {
     "name": "stdout",
     "output_type": "stream",
     "text": [
      "                                                                                                                               \n",
      "Address Successfully Added!!!\n",
      "                                                                                                                               \n",
      "Contact Added Successfully\n"
     ]
    }
   ],
   "source": [
    "Contact()"
   ]
  },
  {
   "cell_type": "code",
   "execution_count": null,
   "metadata": {},
   "outputs": [],
   "source": []
  }
 ],
 "metadata": {
  "kernelspec": {
   "display_name": "Python 3",
   "language": "python",
   "name": "python3"
  },
  "language_info": {
   "codemirror_mode": {
    "name": "ipython",
    "version": 3
   },
   "file_extension": ".py",
   "mimetype": "text/x-python",
   "name": "python",
   "nbconvert_exporter": "python",
   "pygments_lexer": "ipython3",
   "version": "3.8.5"
  }
 },
 "nbformat": 4,
 "nbformat_minor": 4
}
