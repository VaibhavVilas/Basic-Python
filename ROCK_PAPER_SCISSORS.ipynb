{
 "cells": [
  {
   "cell_type": "code",
   "execution_count": 1,
   "metadata": {},
   "outputs": [],
   "source": [
    "import random"
   ]
  },
  {
   "cell_type": "code",
   "execution_count": 2,
   "metadata": {},
   "outputs": [],
   "source": [
    "def rock_paper_scissors():\n",
    "    print('r : Stands For Rock\\np : Stands For Paper\\ns : stands for scissors')\n",
    "    print('                                                                                        ')\n",
    "    c = int(input('How Many Trials Do You Want: '))\n",
    "    i = 0\n",
    "    while i<c:\n",
    "        i=i+1\n",
    "        ply_choice = ''\n",
    "        while ply_choice not in ['r','p','s']:\n",
    "            print('                                                                                     ')\n",
    "            print('                                                                                     ')\n",
    "            print('                                                                                     ')\n",
    "            ply_choice = input('Enter Your Choice: ')\n",
    "            if ply_choice not in ['r','p','s']:\n",
    "                print('                                                                                     ')\n",
    "                print('                                                                                     ')\n",
    "                print('Invalid Input!!\\nPlease Try Again')\n",
    "            else:\n",
    "                comp_choice = random.choice(['r','p','s'])\n",
    "                print('                                                                                     ')\n",
    "                print('Computer chooses:',comp_choice)\n",
    "                while comp_choice in ['r','p','s']:\n",
    "                    if ply_choice == 'r' and comp_choice == 'p':\n",
    "                        print('                                                                                     ')\n",
    "                        print('Computer Wins!!')\n",
    "                        break\n",
    "                    elif ply_choice == 'r' and comp_choice == 's':\n",
    "                        print('                                                                                     ')\n",
    "                        print('Player Wins!!')\n",
    "                        break\n",
    "                    elif ply_choice == comp_choice:\n",
    "                        print('                                                                                     ')\n",
    "                        print('Its a Tie!!')\n",
    "                        break\n",
    "                    elif ply_choice == 'p' and comp_choice == 's':\n",
    "                        print('                                                                                     ')\n",
    "                        print('Computer Wins!!')\n",
    "                        break\n",
    "                    elif ply_choice == 'p' and comp_choice == 'r':\n",
    "                        print('                                                                                     ')\n",
    "                        print('Player Wins!!')\n",
    "                        break\n",
    "                    elif ply_choice == 's' and comp_choice == 'p':\n",
    "                        print('                                                                                     ')\n",
    "                        print('Player Wins!!')\n",
    "                        break\n",
    "                    elif ply_choice == 's' and comp_choice == 'r':\n",
    "                        print('                                                                                     ')\n",
    "                        print('Computer Wins!!')\n",
    "                        break"
   ]
  },
  {
   "cell_type": "code",
   "execution_count": 3,
   "metadata": {},
   "outputs": [
    {
     "name": "stdout",
     "output_type": "stream",
     "text": [
      "r : Stands For Rock\n",
      "p : Stands For Paper\n",
      "s : stands for scissors\n",
      "                                                                                        \n"
     ]
    },
    {
     "name": "stdin",
     "output_type": "stream",
     "text": [
      "How Many Trials Do You Want:  3\n"
     ]
    },
    {
     "name": "stdout",
     "output_type": "stream",
     "text": [
      "                                                                                     \n",
      "                                                                                     \n",
      "                                                                                     \n"
     ]
    },
    {
     "name": "stdin",
     "output_type": "stream",
     "text": [
      "Enter Your Choice:  s\n"
     ]
    },
    {
     "name": "stdout",
     "output_type": "stream",
     "text": [
      "                                                                                     \n",
      "Computer chooses: p\n",
      "                                                                                     \n",
      "Player Wins!!\n",
      "                                                                                     \n",
      "                                                                                     \n",
      "                                                                                     \n"
     ]
    },
    {
     "name": "stdin",
     "output_type": "stream",
     "text": [
      "Enter Your Choice:  s\n"
     ]
    },
    {
     "name": "stdout",
     "output_type": "stream",
     "text": [
      "                                                                                     \n",
      "Computer chooses: s\n",
      "                                                                                     \n",
      "Its a Tie!!\n",
      "                                                                                     \n",
      "                                                                                     \n",
      "                                                                                     \n"
     ]
    },
    {
     "name": "stdin",
     "output_type": "stream",
     "text": [
      "Enter Your Choice:  s\n"
     ]
    },
    {
     "name": "stdout",
     "output_type": "stream",
     "text": [
      "                                                                                     \n",
      "Computer chooses: s\n",
      "                                                                                     \n",
      "Its a Tie!!\n"
     ]
    }
   ],
   "source": [
    "rock_paper_scissors()"
   ]
  },
  {
   "cell_type": "code",
   "execution_count": null,
   "metadata": {},
   "outputs": [],
   "source": []
  }
 ],
 "metadata": {
  "kernelspec": {
   "display_name": "Python 3",
   "language": "python",
   "name": "python3"
  },
  "language_info": {
   "codemirror_mode": {
    "name": "ipython",
    "version": 3
   },
   "file_extension": ".py",
   "mimetype": "text/x-python",
   "name": "python",
   "nbconvert_exporter": "python",
   "pygments_lexer": "ipython3",
   "version": "3.8.5"
  }
 },
 "nbformat": 4,
 "nbformat_minor": 4
}
