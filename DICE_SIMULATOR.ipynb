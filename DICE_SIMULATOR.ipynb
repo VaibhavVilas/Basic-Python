{
 "cells": [
  {
   "cell_type": "code",
   "execution_count": 1,
   "metadata": {},
   "outputs": [],
   "source": [
    "import random"
   ]
  },
  {
   "cell_type": "code",
   "execution_count": 2,
   "metadata": {},
   "outputs": [],
   "source": [
    "def Roll():\n",
    "    print('                      WELCOME TO THE DICE SIMULATOR!!                          ')\n",
    "    c = ''\n",
    "    while c not in ['Y','N']:\n",
    "        print('                                                                               ')\n",
    "        c = input('Do You Want To Roll The Dice: ')\n",
    "        if c == 'Y':\n",
    "            print('                                                                               ')\n",
    "            n = int(input('NUMBER OF TIMES: '))\n",
    "            i = 0\n",
    "            while i < n:\n",
    "                i=i+1\n",
    "                d = random.randint(1,6)\n",
    "                print('                                                                               ')\n",
    "                print(f'{d} has appeared on the Dice')\n",
    "            print('                                                                               ')\n",
    "            print('Thank  You For Playing!!')\n",
    "        else:\n",
    "            print('                                                                               ')\n",
    "            print('Plz Visit Again!')\n",
    "            break"
   ]
  },
  {
   "cell_type": "code",
   "execution_count": 3,
   "metadata": {},
   "outputs": [
    {
     "name": "stdout",
     "output_type": "stream",
     "text": [
      "                      WELCOME TO THE DICE SIMULATOR!!                          \n",
      "                                                                               \n"
     ]
    },
    {
     "name": "stdin",
     "output_type": "stream",
     "text": [
      "Do You Want To Roll The Dice:  Y\n"
     ]
    },
    {
     "name": "stdout",
     "output_type": "stream",
     "text": [
      "                                                                               \n"
     ]
    },
    {
     "name": "stdin",
     "output_type": "stream",
     "text": [
      "NUMBER OF TIMES:  5\n"
     ]
    },
    {
     "name": "stdout",
     "output_type": "stream",
     "text": [
      "                                                                               \n",
      "4 has appeared on the Dice\n",
      "                                                                               \n",
      "5 has appeared on the Dice\n",
      "                                                                               \n",
      "4 has appeared on the Dice\n",
      "                                                                               \n",
      "5 has appeared on the Dice\n",
      "                                                                               \n",
      "3 has appeared on the Dice\n",
      "                                                                               \n",
      "Thank  You For Playing!!\n"
     ]
    }
   ],
   "source": [
    "Roll()"
   ]
  },
  {
   "cell_type": "code",
   "execution_count": null,
   "metadata": {},
   "outputs": [],
   "source": []
  }
 ],
 "metadata": {
  "kernelspec": {
   "display_name": "Python 3",
   "language": "python",
   "name": "python3"
  },
  "language_info": {
   "codemirror_mode": {
    "name": "ipython",
    "version": 3
   },
   "file_extension": ".py",
   "mimetype": "text/x-python",
   "name": "python",
   "nbconvert_exporter": "python",
   "pygments_lexer": "ipython3",
   "version": "3.8.5"
  }
 },
 "nbformat": 4,
 "nbformat_minor": 4
}
