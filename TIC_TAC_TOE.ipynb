{
 "cells": [
  {
   "cell_type": "code",
   "execution_count": 1,
   "metadata": {},
   "outputs": [],
   "source": [
    "from IPython.display import clear_output"
   ]
  },
  {
   "cell_type": "code",
   "execution_count": 2,
   "metadata": {},
   "outputs": [],
   "source": [
    "def display_board(board):                                          #TO DISPLAY THE BOARD\n",
    "    print(board[7]+'  |  '+board[8]+'  |  '+board[9])\n",
    "    print('------'+'----'+'----')\n",
    "    print(board[4]+'  |  '+board[5]+'  |  '+board[6])\n",
    "    print('------'+'----'+'----')\n",
    "    print(board[1]+'  |  '+board[2]+'  |  '+board[3])        "
   ]
  },
  {
   "cell_type": "code",
   "execution_count": 3,
   "metadata": {},
   "outputs": [],
   "source": [
    "t1 = ['#','X','O','X','O','X','X','O','X','X']"
   ]
  },
  {
   "cell_type": "code",
   "execution_count": 4,
   "metadata": {},
   "outputs": [
    {
     "name": "stdout",
     "output_type": "stream",
     "text": [
      "O  |  X  |  X\n",
      "--------------\n",
      "O  |  X  |  X\n",
      "--------------\n",
      "X  |  O  |  X\n"
     ]
    }
   ],
   "source": [
    "display_board(t1)"
   ]
  },
  {
   "cell_type": "code",
   "execution_count": 5,
   "metadata": {},
   "outputs": [],
   "source": [
    "def player_input():                                          #TO ASSIGN THE MARKER TO THE PLY\n",
    "    player_marker = 'wrong'\n",
    "    while player_marker not in ['X','O']:\n",
    "        player_marker = input('PLAYER1 ,CHOOSE BETWEEN X OR O: ')\n",
    "        \n",
    "    player1 = player_marker\n",
    "        \n",
    "    if player1 == 'X':\n",
    "        player2 = 'O'\n",
    "    else:\n",
    "        player2 = 'X'\n",
    "        \n",
    "    return (player1,player2)"
   ]
  },
  {
   "cell_type": "code",
   "execution_count": 6,
   "metadata": {},
   "outputs": [
    {
     "name": "stdin",
     "output_type": "stream",
     "text": [
      "PLAYER1 ,CHOOSE BETWEEN X OR O:  X\n"
     ]
    },
    {
     "data": {
      "text/plain": [
       "('X', 'O')"
      ]
     },
     "execution_count": 6,
     "metadata": {},
     "output_type": "execute_result"
    }
   ],
   "source": [
    "player_input()"
   ]
  },
  {
   "cell_type": "code",
   "execution_count": 7,
   "metadata": {},
   "outputs": [],
   "source": [
    "def place_marker(board,marker,position):                #TO ASSIGN SELECTED MARKER ,POSITION\n",
    "    board[position] = marker\n",
    "    display_board(board)"
   ]
  },
  {
   "cell_type": "code",
   "execution_count": 8,
   "metadata": {},
   "outputs": [
    {
     "name": "stdout",
     "output_type": "stream",
     "text": [
      "O  |  X  |  O\n",
      "--------------\n",
      "O  |  X  |  X\n",
      "--------------\n",
      "X  |  O  |  X\n"
     ]
    }
   ],
   "source": [
    "place_marker(t1,'O',9)"
   ]
  },
  {
   "cell_type": "code",
   "execution_count": 9,
   "metadata": {},
   "outputs": [
    {
     "data": {
      "text/plain": [
       "['#', 'X', 'O', 'X', 'O', 'X', 'X', 'O', 'X', 'O']"
      ]
     },
     "execution_count": 9,
     "metadata": {},
     "output_type": "execute_result"
    }
   ],
   "source": [
    "t1"
   ]
  },
  {
   "cell_type": "code",
   "execution_count": 10,
   "metadata": {},
   "outputs": [],
   "source": [
    "def win_check(board,mark):                        #TO CHECK WHETHER THE GAME HAS BEEN WON OR NOT\n",
    "    return (board[1] == board[2]== board[3] == mark or\n",
    "            board[4] == board[5]== board[6] == mark or\n",
    "            board[7] == board[8]== board[9] == mark or\n",
    "            board[1] == board[4]== board[7] == mark or\n",
    "            board[2] == board[5]== board[8] == mark or\n",
    "            board[3] == board[6]== board[9] == mark or\n",
    "            board[1] == board[5]== board[9] == mark or\n",
    "            board[3] == board[5]== board[7] == mark)"
   ]
  },
  {
   "cell_type": "code",
   "execution_count": 11,
   "metadata": {},
   "outputs": [
    {
     "name": "stdout",
     "output_type": "stream",
     "text": [
      "O  |  X  |  O\n",
      "--------------\n",
      "O  |  X  |  X\n",
      "--------------\n",
      "X  |  O  |  X\n"
     ]
    }
   ],
   "source": [
    "display_board(t1)"
   ]
  },
  {
   "cell_type": "code",
   "execution_count": 12,
   "metadata": {},
   "outputs": [
    {
     "data": {
      "text/plain": [
       "False"
      ]
     },
     "execution_count": 12,
     "metadata": {},
     "output_type": "execute_result"
    }
   ],
   "source": [
    "win_check(t1,'O')"
   ]
  },
  {
   "cell_type": "code",
   "execution_count": 13,
   "metadata": {},
   "outputs": [],
   "source": [
    "import random                                                            #TO RANDOMLY CHOOSE WHO GOES FIRST\n",
    "\n",
    "\n",
    "def choose_first():\n",
    "    choice = random.randint(0,1)\n",
    "    if choice == 0:\n",
    "        return 'PLAYER 1'\n",
    "    else:\n",
    "        return 'PLAYER 2'"
   ]
  },
  {
   "cell_type": "code",
   "execution_count": 14,
   "metadata": {},
   "outputs": [
    {
     "data": {
      "text/plain": [
       "'PLAYER 1'"
      ]
     },
     "execution_count": 14,
     "metadata": {},
     "output_type": "execute_result"
    }
   ],
   "source": [
    "choose_first()"
   ]
  },
  {
   "cell_type": "code",
   "execution_count": 15,
   "metadata": {},
   "outputs": [],
   "source": [
    "def space_check(board,position):                                        #TO CHECK FOR EMPTY SPACES                      \n",
    "    return board[position] == ' '"
   ]
  },
  {
   "cell_type": "code",
   "execution_count": 16,
   "metadata": {},
   "outputs": [
    {
     "data": {
      "text/plain": [
       "False"
      ]
     },
     "execution_count": 16,
     "metadata": {},
     "output_type": "execute_result"
    }
   ],
   "source": [
    "space_check(t1,4)"
   ]
  },
  {
   "cell_type": "code",
   "execution_count": 17,
   "metadata": {},
   "outputs": [],
   "source": [
    "def full_board_check(board):                                   #RETURNS TRUE IF BOARD IS FULL\n",
    "    for i in range(1,10):\n",
    "        if space_check(board,i):\n",
    "            return False\n",
    "    return True"
   ]
  },
  {
   "cell_type": "code",
   "execution_count": 18,
   "metadata": {},
   "outputs": [
    {
     "data": {
      "text/plain": [
       "True"
      ]
     },
     "execution_count": 18,
     "metadata": {},
     "output_type": "execute_result"
    }
   ],
   "source": [
    "full_board_check(t1)"
   ]
  },
  {
   "cell_type": "code",
   "execution_count": 19,
   "metadata": {},
   "outputs": [
    {
     "name": "stdout",
     "output_type": "stream",
     "text": [
      "O  |  X  |  O\n",
      "--------------\n",
      "O  |     |  X\n",
      "--------------\n",
      "X  |  O  |  X\n"
     ]
    }
   ],
   "source": [
    "place_marker(t1,' ',5)"
   ]
  },
  {
   "cell_type": "code",
   "execution_count": 20,
   "metadata": {},
   "outputs": [],
   "source": [
    "def player_choice(board):  \n",
    "    position = 0\n",
    "    \n",
    "    while position not in [1,2,3,4,5,6,7,8,9] or not space_check(board, position):\n",
    "        position = int(input('Choose your next position(1-9):  '))\n",
    "    return position"
   ]
  },
  {
   "cell_type": "code",
   "execution_count": 21,
   "metadata": {},
   "outputs": [
    {
     "name": "stdout",
     "output_type": "stream",
     "text": [
      "O  |  X  |  O\n",
      "--------------\n",
      "O  |     |  X\n",
      "--------------\n",
      "X  |  O  |  X\n"
     ]
    }
   ],
   "source": [
    "display_board(t1)"
   ]
  },
  {
   "cell_type": "code",
   "execution_count": 22,
   "metadata": {},
   "outputs": [
    {
     "name": "stdin",
     "output_type": "stream",
     "text": [
      "Choose your next position(1-9):   6\n",
      "Choose your next position(1-9):   5\n"
     ]
    },
    {
     "data": {
      "text/plain": [
       "5"
      ]
     },
     "execution_count": 22,
     "metadata": {},
     "output_type": "execute_result"
    }
   ],
   "source": [
    "player_choice(t1)"
   ]
  },
  {
   "cell_type": "code",
   "execution_count": 23,
   "metadata": {},
   "outputs": [],
   "source": [
    "def replay():\n",
    "    choice = 'wrong'\n",
    "    while choice not in ['Y','N']:\n",
    "        choice = input('DO YOU WANT TO PLAY AGAIN?: ')\n",
    "        \n",
    "        \n",
    "        if choice == 'Y':\n",
    "            return True\n",
    "        else:\n",
    "            return False"
   ]
  },
  {
   "cell_type": "code",
   "execution_count": 24,
   "metadata": {},
   "outputs": [
    {
     "name": "stdin",
     "output_type": "stream",
     "text": [
      "DO YOU WANT TO PLAY AGAIN?:  N\n"
     ]
    },
    {
     "data": {
      "text/plain": [
       "False"
      ]
     },
     "execution_count": 24,
     "metadata": {},
     "output_type": "execute_result"
    }
   ],
   "source": [
    "replay()"
   ]
  },
  {
   "cell_type": "code",
   "execution_count": 25,
   "metadata": {},
   "outputs": [
    {
     "name": "stdout",
     "output_type": "stream",
     "text": [
      "Welcome to Tic Tac Toe!\n"
     ]
    },
    {
     "name": "stdin",
     "output_type": "stream",
     "text": [
      "PLAYER1 ,CHOOSE BETWEEN X OR O:  X\n"
     ]
    },
    {
     "name": "stdout",
     "output_type": "stream",
     "text": [
      "   |     |   \n",
      "--------------\n",
      "   |     |   \n",
      "--------------\n",
      "   |     |   \n"
     ]
    },
    {
     "name": "stdin",
     "output_type": "stream",
     "text": [
      "Choose your next position(1-9):   2\n"
     ]
    },
    {
     "name": "stdout",
     "output_type": "stream",
     "text": [
      "   |     |   \n",
      "--------------\n",
      "   |     |   \n",
      "--------------\n",
      "   |  O  |   \n",
      "   |     |   \n",
      "--------------\n",
      "   |     |   \n",
      "--------------\n",
      "   |  O  |   \n"
     ]
    },
    {
     "name": "stdin",
     "output_type": "stream",
     "text": [
      "Choose your next position(1-9):   1\n"
     ]
    },
    {
     "name": "stdout",
     "output_type": "stream",
     "text": [
      "   |     |   \n",
      "--------------\n",
      "   |     |   \n",
      "--------------\n",
      "X  |  O  |   \n",
      "   |     |   \n",
      "--------------\n",
      "   |     |   \n",
      "--------------\n",
      "X  |  O  |   \n"
     ]
    },
    {
     "name": "stdin",
     "output_type": "stream",
     "text": [
      "Choose your next position(1-9):   5\n"
     ]
    },
    {
     "name": "stdout",
     "output_type": "stream",
     "text": [
      "   |     |   \n",
      "--------------\n",
      "   |  O  |   \n",
      "--------------\n",
      "X  |  O  |   \n",
      "   |     |   \n",
      "--------------\n",
      "   |  O  |   \n",
      "--------------\n",
      "X  |  O  |   \n"
     ]
    },
    {
     "name": "stdin",
     "output_type": "stream",
     "text": [
      "Choose your next position(1-9):   4\n"
     ]
    },
    {
     "name": "stdout",
     "output_type": "stream",
     "text": [
      "   |     |   \n",
      "--------------\n",
      "X  |  O  |   \n",
      "--------------\n",
      "X  |  O  |   \n",
      "   |     |   \n",
      "--------------\n",
      "X  |  O  |   \n",
      "--------------\n",
      "X  |  O  |   \n"
     ]
    },
    {
     "name": "stdin",
     "output_type": "stream",
     "text": [
      "Choose your next position(1-9):   8\n"
     ]
    },
    {
     "name": "stdout",
     "output_type": "stream",
     "text": [
      "   |  O  |   \n",
      "--------------\n",
      "X  |  O  |   \n",
      "--------------\n",
      "X  |  O  |   \n",
      "   |  O  |   \n",
      "--------------\n",
      "X  |  O  |   \n",
      "--------------\n",
      "X  |  O  |   \n",
      "CONGRATULATIONS !!! PLAYER 2 HAS WON THE GAME\n"
     ]
    },
    {
     "name": "stdin",
     "output_type": "stream",
     "text": [
      "DO YOU WANT TO PLAY AGAIN?:  N\n"
     ]
    }
   ],
   "source": [
    "print('Welcome to Tic Tac Toe!')\n",
    "\n",
    "\n",
    "game_on = True\n",
    "while True:\n",
    "    gboard = ['#',' ',' ',' ',' ',' ',' ',' ',' ',' ',' ']\n",
    "    player1_marker,player2_marker = player_input()\n",
    "    turn = choose_first()\n",
    "    \n",
    "    while game_on:\n",
    "        if turn == 'PLAYER 1':\n",
    "            display_board(gboard)\n",
    "            position = player_choice(gboard)\n",
    "            place_marker(gboard,player1_marker,position)\n",
    "            \n",
    "            if win_check(gboard,player1_marker):\n",
    "                display_board(gboard)\n",
    "                print('CONGRATULATIONS !!! PLAYER 1 HAS WON THE GAME')\n",
    "                game_on = False\n",
    "            else:\n",
    "                if full_board_check(gboard):\n",
    "                    display_board(gboard)\n",
    "                    print('THE GAME IS A DRAW')\n",
    "                    break\n",
    "                else:\n",
    "                    turn = 'PLAYER 2'\n",
    "                \n",
    "                \n",
    "        else:\n",
    "            display_board(gboard)\n",
    "            position = player_choice(gboard)\n",
    "            place_marker(gboard,player2_marker,position)\n",
    "            \n",
    "            if win_check(gboard,player2_marker):\n",
    "                display_board(gboard)\n",
    "                print('CONGRATULATIONS !!! PLAYER 2 HAS WON THE GAME')\n",
    "                game_on = False\n",
    "            else:\n",
    "                if full_board_check(gboard):\n",
    "                    display_board(gboard)\n",
    "                    print('THE GAME IS A DRAW')\n",
    "                    break\n",
    "                else:\n",
    "                    turn = 'PLAYER 1'\n",
    "                \n",
    "        \n",
    "                \n",
    "                \n",
    "    \n",
    "    if not replay():\n",
    "        break  "
   ]
  },
  {
   "cell_type": "code",
   "execution_count": null,
   "metadata": {},
   "outputs": [],
   "source": []
  },
  {
   "cell_type": "code",
   "execution_count": null,
   "metadata": {},
   "outputs": [],
   "source": []
  },
  {
   "cell_type": "code",
   "execution_count": null,
   "metadata": {},
   "outputs": [],
   "source": []
  }
 ],
 "metadata": {
  "kernelspec": {
   "display_name": "Python 3",
   "language": "python",
   "name": "python3"
  },
  "language_info": {
   "codemirror_mode": {
    "name": "ipython",
    "version": 3
   },
   "file_extension": ".py",
   "mimetype": "text/x-python",
   "name": "python",
   "nbconvert_exporter": "python",
   "pygments_lexer": "ipython3",
   "version": "3.8.5"
  }
 },
 "nbformat": 4,
 "nbformat_minor": 4
}
